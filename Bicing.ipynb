{
 "cells": [
  {
   "cell_type": "code",
   "execution_count": 1,
   "metadata": {},
   "outputs": [],
   "source": [
    "import json\n",
    "import requests\n",
    "import psycopg2\n",
    "from time import gmtime, strftime\n",
    "\n",
    "import pandas as pd\n",
    "import pandas.io.sql as sqlio\n",
    "\n",
    "import matplotlib.pyplot as plt\n"
   ]
  },
  {
   "cell_type": "markdown",
   "metadata": {},
   "source": [
    "### Query Bicing API + Insert into DB Locally"
   ]
  },
  {
   "cell_type": "code",
   "execution_count": 22,
   "metadata": {},
   "outputs": [],
   "source": [
    "r = requests.get('http://wservice.viabicing.cat/v2/stations')\n",
    "bicingJson = r.json()"
   ]
  },
  {
   "cell_type": "code",
   "execution_count": 26,
   "metadata": {},
   "outputs": [],
   "source": [
    "#conexión a la base de datos\n",
    "try:\n",
    "    conn = psycopg2.connect(\"dbname='bicing' user='postgres' host='localhost' password='root'\")\n",
    "except:\n",
    "    print(\"I am unable to connect to the database\")"
   ]
  },
  {
   "cell_type": "code",
   "execution_count": 27,
   "metadata": {},
   "outputs": [],
   "source": [
    "cursor = conn.cursor()\n",
    "cursor.executemany(\"INSERT into bicing(id_station,lat,lon,slots,bikes) VALUES (%(id)s, %(latitude)s,%(longitude)s,%(slots)s,%(bikes)s)\",bicingJson['stations'])\n",
    "conn.commit()\n",
    "cursor.close()"
   ]
  },
  {
   "cell_type": "code",
   "execution_count": 28,
   "metadata": {},
   "outputs": [],
   "source": [
    "conn.close()"
   ]
  },
  {
   "cell_type": "markdown",
   "metadata": {},
   "source": [
    "### External query of the DB"
   ]
  },
  {
   "cell_type": "code",
   "execution_count": 19,
   "metadata": {},
   "outputs": [],
   "source": [
    "try:\n",
    "    conn = psycopg2.connect(\"dbname='bicing' user='postgres' host='192.168.1.205' password='root'\")\n",
    "except:\n",
    "    print(\"I am unable to connect to the database\")\n",
    "sql = \"SELECT distinct(hora) FROM bicing ORDER BY hora DESC LIMIT 3000;\"\n",
    "#sql = \"SELECT * FROM bicing WHERE bikesdifference != 0 LIMIT 3000\"\n",
    "df = sqlio.read_sql_query(sql, conn)\n",
    "conn.close()"
   ]
  },
  {
   "cell_type": "code",
   "execution_count": 20,
   "metadata": {},
   "outputs": [
    {
     "data": {
      "text/html": [
       "<div>\n",
       "<style scoped>\n",
       "    .dataframe tbody tr th:only-of-type {\n",
       "        vertical-align: middle;\n",
       "    }\n",
       "\n",
       "    .dataframe tbody tr th {\n",
       "        vertical-align: top;\n",
       "    }\n",
       "\n",
       "    .dataframe thead th {\n",
       "        text-align: right;\n",
       "    }\n",
       "</style>\n",
       "<table border=\"1\" class=\"dataframe\">\n",
       "  <thead>\n",
       "    <tr style=\"text-align: right;\">\n",
       "      <th></th>\n",
       "      <th>hora</th>\n",
       "    </tr>\n",
       "  </thead>\n",
       "  <tbody>\n",
       "    <tr>\n",
       "      <th>0</th>\n",
       "      <td>2018-10-25 07:03:02.614919</td>\n",
       "    </tr>\n",
       "    <tr>\n",
       "      <th>1</th>\n",
       "      <td>2018-10-25 07:02:02.340973</td>\n",
       "    </tr>\n",
       "    <tr>\n",
       "      <th>2</th>\n",
       "      <td>2018-10-25 07:01:03.151691</td>\n",
       "    </tr>\n",
       "    <tr>\n",
       "      <th>3</th>\n",
       "      <td>2018-10-25 07:00:03.035030</td>\n",
       "    </tr>\n",
       "    <tr>\n",
       "      <th>4</th>\n",
       "      <td>2018-10-25 06:59:02.937922</td>\n",
       "    </tr>\n",
       "  </tbody>\n",
       "</table>\n",
       "</div>"
      ],
      "text/plain": [
       "                        hora\n",
       "0 2018-10-25 07:03:02.614919\n",
       "1 2018-10-25 07:02:02.340973\n",
       "2 2018-10-25 07:01:03.151691\n",
       "3 2018-10-25 07:00:03.035030\n",
       "4 2018-10-25 06:59:02.937922"
      ]
     },
     "execution_count": 20,
     "metadata": {},
     "output_type": "execute_result"
    }
   ],
   "source": [
    "df.head()"
   ]
  },
  {
   "cell_type": "code",
   "execution_count": 3,
   "metadata": {},
   "outputs": [
    {
     "data": {
      "text/html": [
       "<div>\n",
       "<style scoped>\n",
       "    .dataframe tbody tr th:only-of-type {\n",
       "        vertical-align: middle;\n",
       "    }\n",
       "\n",
       "    .dataframe tbody tr th {\n",
       "        vertical-align: top;\n",
       "    }\n",
       "\n",
       "    .dataframe thead th {\n",
       "        text-align: right;\n",
       "    }\n",
       "</style>\n",
       "<table border=\"1\" class=\"dataframe\">\n",
       "  <thead>\n",
       "    <tr style=\"text-align: right;\">\n",
       "      <th></th>\n",
       "      <th>id</th>\n",
       "      <th>id_station</th>\n",
       "      <th>lat</th>\n",
       "      <th>lon</th>\n",
       "      <th>slots</th>\n",
       "      <th>bikes</th>\n",
       "      <th>hora</th>\n",
       "      <th>hmin</th>\n",
       "      <th>bikesdifference</th>\n",
       "      <th>total_space</th>\n",
       "    </tr>\n",
       "  </thead>\n",
       "  <tbody>\n",
       "    <tr>\n",
       "      <th>0</th>\n",
       "      <td>1094637</td>\n",
       "      <td>108</td>\n",
       "      <td>41.4023</td>\n",
       "      <td>2.16496</td>\n",
       "      <td>7</td>\n",
       "      <td>14</td>\n",
       "      <td>2018-10-24 14:16:03.152525</td>\n",
       "      <td>02:17</td>\n",
       "      <td>14</td>\n",
       "      <td>21</td>\n",
       "    </tr>\n",
       "    <tr>\n",
       "      <th>1</th>\n",
       "      <td>1164968</td>\n",
       "      <td>62</td>\n",
       "      <td>41.3871</td>\n",
       "      <td>2.16886</td>\n",
       "      <td>1</td>\n",
       "      <td>20</td>\n",
       "      <td>2018-10-24 16:48:02.560238</td>\n",
       "      <td>04:49</td>\n",
       "      <td>7</td>\n",
       "      <td>21</td>\n",
       "    </tr>\n",
       "    <tr>\n",
       "      <th>2</th>\n",
       "      <td>1094638</td>\n",
       "      <td>109</td>\n",
       "      <td>41.3910</td>\n",
       "      <td>2.14737</td>\n",
       "      <td>13</td>\n",
       "      <td>7</td>\n",
       "      <td>2018-10-24 14:16:03.152525</td>\n",
       "      <td>02:17</td>\n",
       "      <td>7</td>\n",
       "      <td>20</td>\n",
       "    </tr>\n",
       "    <tr>\n",
       "      <th>3</th>\n",
       "      <td>1316514</td>\n",
       "      <td>208</td>\n",
       "      <td>41.3915</td>\n",
       "      <td>2.13912</td>\n",
       "      <td>11</td>\n",
       "      <td>22</td>\n",
       "      <td>2018-10-24 22:15:02.767724</td>\n",
       "      <td>10:16</td>\n",
       "      <td>17</td>\n",
       "      <td>33</td>\n",
       "    </tr>\n",
       "    <tr>\n",
       "      <th>4</th>\n",
       "      <td>1094639</td>\n",
       "      <td>110</td>\n",
       "      <td>41.3854</td>\n",
       "      <td>2.15488</td>\n",
       "      <td>15</td>\n",
       "      <td>5</td>\n",
       "      <td>2018-10-24 14:16:03.152525</td>\n",
       "      <td>02:17</td>\n",
       "      <td>3</td>\n",
       "      <td>20</td>\n",
       "    </tr>\n",
       "  </tbody>\n",
       "</table>\n",
       "</div>"
      ],
      "text/plain": [
       "        id  id_station      lat      lon  slots  bikes  \\\n",
       "0  1094637         108  41.4023  2.16496      7     14   \n",
       "1  1164968          62  41.3871  2.16886      1     20   \n",
       "2  1094638         109  41.3910  2.14737     13      7   \n",
       "3  1316514         208  41.3915  2.13912     11     22   \n",
       "4  1094639         110  41.3854  2.15488     15      5   \n",
       "\n",
       "                        hora        hmin  bikesdifference  total_space  \n",
       "0 2018-10-24 14:16:03.152525  02:17                    14           21  \n",
       "1 2018-10-24 16:48:02.560238  04:49                     7           21  \n",
       "2 2018-10-24 14:16:03.152525  02:17                     7           20  \n",
       "3 2018-10-24 22:15:02.767724  10:16                    17           33  \n",
       "4 2018-10-24 14:16:03.152525  02:17                     3           20  "
      ]
     },
     "execution_count": 3,
     "metadata": {},
     "output_type": "execute_result"
    }
   ],
   "source": [
    "df = df.assign(total_space = df.slots+df.bikes)\n",
    "df.head()"
   ]
  },
  {
   "cell_type": "code",
   "execution_count": 8,
   "metadata": {},
   "outputs": [
    {
     "name": "stdout",
     "output_type": "stream",
     "text": [
      "id_station  total_space\n",
      "282         27             10\n",
      "240         27             10\n",
      "285         24             10\n",
      "278         24             10\n",
      "271         20              9\n",
      "294         27              9\n",
      "292         26              9\n",
      "289         27              9\n",
      "275         33              9\n",
      "274         33              9\n",
      "Name: total_space, dtype: int64\n"
     ]
    },
    {
     "data": {
      "text/plain": [
       "965     25\n",
       "1378    26\n",
       "1477    25\n",
       "2209    25\n",
       "2713    27\n",
       "Name: total_space, dtype: int64"
      ]
     },
     "execution_count": 8,
     "metadata": {},
     "output_type": "execute_result"
    }
   ],
   "source": [
    "print(df.groupby('id_station')['total_space'].value_counts().sort_values(ascending=False).head(10))\n",
    "\n",
    "df['total_space'][df['id_station']==9]"
   ]
  },
  {
   "cell_type": "code",
   "execution_count": 51,
   "metadata": {},
   "outputs": [
    {
     "data": {
      "text/html": [
       "<div>\n",
       "<style scoped>\n",
       "    .dataframe tbody tr th:only-of-type {\n",
       "        vertical-align: middle;\n",
       "    }\n",
       "\n",
       "    .dataframe tbody tr th {\n",
       "        vertical-align: top;\n",
       "    }\n",
       "\n",
       "    .dataframe thead th {\n",
       "        text-align: right;\n",
       "    }\n",
       "</style>\n",
       "<table border=\"1\" class=\"dataframe\">\n",
       "  <thead>\n",
       "    <tr style=\"text-align: right;\">\n",
       "      <th></th>\n",
       "      <th>id</th>\n",
       "      <th>id_station</th>\n",
       "      <th>lat</th>\n",
       "      <th>lon</th>\n",
       "      <th>slots</th>\n",
       "      <th>bikes</th>\n",
       "      <th>hora</th>\n",
       "      <th>hmin</th>\n",
       "      <th>bikesdifference</th>\n",
       "      <th>total_space</th>\n",
       "    </tr>\n",
       "  </thead>\n",
       "  <tbody>\n",
       "    <tr>\n",
       "      <th>1147</th>\n",
       "      <td>381984</td>\n",
       "      <td>9</td>\n",
       "      <td>41.3845</td>\n",
       "      <td>2.18492</td>\n",
       "      <td>18</td>\n",
       "      <td>9</td>\n",
       "      <td>2018-10-23 12:32:02.923265</td>\n",
       "      <td>12:33</td>\n",
       "      <td>-1</td>\n",
       "      <td>27</td>\n",
       "    </tr>\n",
       "    <tr>\n",
       "      <th>1516</th>\n",
       "      <td>385225</td>\n",
       "      <td>9</td>\n",
       "      <td>41.3845</td>\n",
       "      <td>2.18492</td>\n",
       "      <td>18</td>\n",
       "      <td>8</td>\n",
       "      <td>2018-10-23 12:39:02.931840</td>\n",
       "      <td>12:40</td>\n",
       "      <td>-1</td>\n",
       "      <td>26</td>\n",
       "    </tr>\n",
       "  </tbody>\n",
       "</table>\n",
       "</div>"
      ],
      "text/plain": [
       "          id  id_station      lat      lon  slots  bikes  \\\n",
       "1147  381984           9  41.3845  2.18492     18      9   \n",
       "1516  385225           9  41.3845  2.18492     18      8   \n",
       "\n",
       "                           hora        hmin  bikesdifference  total_space  \n",
       "1147 2018-10-23 12:32:02.923265  12:33                    -1           27  \n",
       "1516 2018-10-23 12:39:02.931840  12:40                    -1           26  "
      ]
     },
     "execution_count": 51,
     "metadata": {},
     "output_type": "execute_result"
    }
   ],
   "source": [
    "df.iloc[[1147,1516]]"
   ]
  },
  {
   "cell_type": "code",
   "execution_count": 12,
   "metadata": {},
   "outputs": [
    {
     "data": {
      "text/plain": [
       "<matplotlib.collections.PathCollection at 0x28eff9bbc88>"
      ]
     },
     "execution_count": 12,
     "metadata": {},
     "output_type": "execute_result"
    },
    {
     "data": {
      "image/png": "[encoded data removed]",
      "text/plain": [
       "<matplotlib.figure.Figure at 0x28eff8f5be0>"
      ]
     },
     "metadata": {},
     "output_type": "display_data"
    }
   ],
   "source": [
    "plt.scatter(df.lat,df.lon)"
   ]
  },
  {
   "cell_type": "markdown",
   "metadata": {},
   "source": [
    "### Batch file downloaded from Open data BCN"
   ]
  },
  {
   "cell_type": "code",
   "execution_count": 33,
   "metadata": {},
   "outputs": [
    {
     "data": {
      "text/html": [
       "<div>\n",
       "<style scoped>\n",
       "    .dataframe tbody tr th:only-of-type {\n",
       "        vertical-align: middle;\n",
       "    }\n",
       "\n",
       "    .dataframe tbody tr th {\n",
       "        vertical-align: top;\n",
       "    }\n",
       "\n",
       "    .dataframe thead th {\n",
       "        text-align: right;\n",
       "    }\n",
       "</style>\n",
       "<table border=\"1\" class=\"dataframe\">\n",
       "  <thead>\n",
       "    <tr style=\"text-align: right;\">\n",
       "      <th></th>\n",
       "      <th>id</th>\n",
       "      <th>type</th>\n",
       "      <th>latitude</th>\n",
       "      <th>longitude</th>\n",
       "      <th>streetName</th>\n",
       "      <th>streetNumber</th>\n",
       "      <th>altitude</th>\n",
       "      <th>slots</th>\n",
       "      <th>bikes</th>\n",
       "      <th>nearbyStations</th>\n",
       "      <th>status</th>\n",
       "      <th>updateTime</th>\n",
       "      <th>total_space</th>\n",
       "    </tr>\n",
       "  </thead>\n",
       "  <tbody>\n",
       "    <tr>\n",
       "      <th>0</th>\n",
       "      <td>1</td>\n",
       "      <td>BIKE</td>\n",
       "      <td>41,397952</td>\n",
       "      <td>2,180042</td>\n",
       "      <td>Gran Via Corts Catalanes</td>\n",
       "      <td>760</td>\n",
       "      <td>21</td>\n",
       "      <td>24</td>\n",
       "      <td>5</td>\n",
       "      <td>24, 369, 387, 426</td>\n",
       "      <td>OPN</td>\n",
       "      <td>01/09/18 00:00:22</td>\n",
       "      <td>29</td>\n",
       "    </tr>\n",
       "    <tr>\n",
       "      <th>1</th>\n",
       "      <td>2</td>\n",
       "      <td>BIKE</td>\n",
       "      <td>41,39553</td>\n",
       "      <td>2,17706</td>\n",
       "      <td>Roger de Flor/ Gran Vía</td>\n",
       "      <td>126</td>\n",
       "      <td>21</td>\n",
       "      <td>12</td>\n",
       "      <td>12</td>\n",
       "      <td>360, 368, 387, 414</td>\n",
       "      <td>OPN</td>\n",
       "      <td>01/09/18 00:00:22</td>\n",
       "      <td>24</td>\n",
       "    </tr>\n",
       "    <tr>\n",
       "      <th>2</th>\n",
       "      <td>3</td>\n",
       "      <td>BIKE</td>\n",
       "      <td>41,394072</td>\n",
       "      <td>2,183441</td>\n",
       "      <td>Nàpols</td>\n",
       "      <td>82</td>\n",
       "      <td>22</td>\n",
       "      <td>15</td>\n",
       "      <td>9</td>\n",
       "      <td>4, 6, 119, 419</td>\n",
       "      <td>OPN</td>\n",
       "      <td>01/09/18 00:00:22</td>\n",
       "      <td>24</td>\n",
       "    </tr>\n",
       "    <tr>\n",
       "      <th>3</th>\n",
       "      <td>4</td>\n",
       "      <td>BIKE</td>\n",
       "      <td>41,39347</td>\n",
       "      <td>2,18149</td>\n",
       "      <td>Ribes</td>\n",
       "      <td>13</td>\n",
       "      <td>21</td>\n",
       "      <td>4</td>\n",
       "      <td>14</td>\n",
       "      <td>3, 5, 359, 419</td>\n",
       "      <td>OPN</td>\n",
       "      <td>01/09/18 00:00:22</td>\n",
       "      <td>18</td>\n",
       "    </tr>\n",
       "    <tr>\n",
       "      <th>4</th>\n",
       "      <td>5</td>\n",
       "      <td>BIKE</td>\n",
       "      <td>41,391075</td>\n",
       "      <td>2,180223</td>\n",
       "      <td>Pg Lluís Companys</td>\n",
       "      <td>11</td>\n",
       "      <td>16</td>\n",
       "      <td>27</td>\n",
       "      <td>12</td>\n",
       "      <td>6, 7, 359, 418</td>\n",
       "      <td>OPN</td>\n",
       "      <td>01/09/18 00:00:22</td>\n",
       "      <td>39</td>\n",
       "    </tr>\n",
       "  </tbody>\n",
       "</table>\n",
       "</div>"
      ],
      "text/plain": [
       "   id  type   latitude longitude                streetName streetNumber  \\\n",
       "0   1  BIKE  41,397952  2,180042  Gran Via Corts Catalanes          760   \n",
       "1   2  BIKE   41,39553   2,17706   Roger de Flor/ Gran Vía          126   \n",
       "2   3  BIKE  41,394072  2,183441                    Nàpols           82   \n",
       "3   4  BIKE   41,39347   2,18149                     Ribes           13   \n",
       "4   5  BIKE  41,391075  2,180223         Pg Lluís Companys           11   \n",
       "\n",
       "   altitude  slots  bikes      nearbyStations status         updateTime  \\\n",
       "0        21     24      5   24, 369, 387, 426    OPN  01/09/18 00:00:22   \n",
       "1        21     12     12  360, 368, 387, 414    OPN  01/09/18 00:00:22   \n",
       "2        22     15      9      4, 6, 119, 419    OPN  01/09/18 00:00:22   \n",
       "3        21      4     14      3, 5, 359, 419    OPN  01/09/18 00:00:22   \n",
       "4        16     27     12      6, 7, 359, 418    OPN  01/09/18 00:00:22   \n",
       "\n",
       "   total_space  \n",
       "0           29  \n",
       "1           24  \n",
       "2           24  \n",
       "3           18  \n",
       "4           39  "
      ]
     },
     "execution_count": 33,
     "metadata": {},
     "output_type": "execute_result"
    }
   ],
   "source": [
    "df_batch = pd.read_csv(\"2018_09_setembre_bicing_estacions.csv\", sep=\";\")\n",
    "df_batch = df_batch.assign(total_space = df_batch.slots+df_batch.bikes)\n",
    "df_batch.head()"
   ]
  },
  {
   "cell_type": "code",
   "execution_count": 34,
   "metadata": {},
   "outputs": [
    {
     "data": {
      "text/plain": [
       "id   total_space\n",
       "357  27             2367\n",
       "479  12             2367\n",
       "456  12             2367\n",
       "480  12             2367\n",
       "257  27             2367\n",
       "464  12             2367\n",
       "481  12             2366\n",
       "484  12             2366\n",
       "466  12             2366\n",
       "482  12             2365\n",
       "Name: total_space, dtype: int64"
      ]
     },
     "execution_count": 34,
     "metadata": {},
     "output_type": "execute_result"
    }
   ],
   "source": [
    "df_batch.groupby('id')['total_space'].value_counts().sort_values(ascending=False).head(10)"
   ]
  }
 ],
 "metadata": {
  "kernelspec": {
   "display_name": "Python 3",
   "language": "python",
   "name": "python3"
  },
  "language_info": {
   "codemirror_mode": {
    "name": "ipython",
    "version": 3
   },
   "file_extension": ".py",
   "mimetype": "text/x-python",
   "name": "python",
   "nbconvert_exporter": "python",
   "pygments_lexer": "ipython3",
   "version": "3.6.4"
  }
 },
 "nbformat": 4,
 "nbformat_minor": 2
}
