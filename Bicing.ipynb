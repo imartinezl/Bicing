{
 "cells": [
  {
   "cell_type": "code",
   "execution_count": 8,
   "metadata": {},
   "outputs": [],
   "source": [
    "import json\n",
    "import requests\n",
    "import psycopg2\n",
    "from time import gmtime, strftime\n",
    "\n",
    "import pandas as pd\n",
    "import pandas.io.sql as sqlio"
   ]
  },
  {
   "cell_type": "markdown",
   "metadata": {},
   "source": [
    "### Query Bicing API + Insert into DB Locally"
   ]
  },
  {
   "cell_type": "code",
   "execution_count": 22,
   "metadata": {},
   "outputs": [],
   "source": [
    "r = requests.get('http://wservice.viabicing.cat/v2/stations')\n",
    "bicingJson = r.json()"
   ]
  },
  {
   "cell_type": "code",
   "execution_count": 26,
   "metadata": {},
   "outputs": [],
   "source": [
    "#conexión a la base de datos\n",
    "try:\n",
    "    conn = psycopg2.connect(\"dbname='bicing' user='postgres' host='localhost' password='root'\")\n",
    "except:\n",
    "    print(\"I am unable to connect to the database\")"
   ]
  },
  {
   "cell_type": "code",
   "execution_count": 27,
   "metadata": {},
   "outputs": [],
   "source": [
    "cursor = conn.cursor()\n",
    "cursor.executemany(\"INSERT into bicing(id_station,lat,lon,slots,bikes) VALUES (%(id)s, %(latitude)s,%(longitude)s,%(slots)s,%(bikes)s)\",bicingJson['stations'])\n",
    "conn.commit()\n",
    "cursor.close()"
   ]
  },
  {
   "cell_type": "code",
   "execution_count": 28,
   "metadata": {},
   "outputs": [],
   "source": [
    "conn.close()"
   ]
  },
  {
   "cell_type": "markdown",
   "metadata": {},
   "source": [
    "### External query of the DB"
   ]
  },
  {
   "cell_type": "code",
   "execution_count": 40,
   "metadata": {},
   "outputs": [],
   "source": [
    "try:\n",
    "    conn = psycopg2.connect(\"dbname='bicing' user='postgres' host='192.168.1.205' password='root'\")\n",
    "except:\n",
    "    print(\"I am unable to connect to the database\")\n",
    "sql = \"SELECT distinct(hora) FROM bicing ORDER BY hora ASC;\"\n",
    "sql = \"SELECT * FROM bicing WHERE bikesdifference != 0 LIMIT 3000\"\n",
    "df = sqlio.read_sql_query(sql, conn)\n",
    "conn.close()"
   ]
  },
  {
   "cell_type": "code",
   "execution_count": 41,
   "metadata": {},
   "outputs": [
    {
     "data": {
      "text/html": [
       "<div>\n",
       "<style scoped>\n",
       "    .dataframe tbody tr th:only-of-type {\n",
       "        vertical-align: middle;\n",
       "    }\n",
       "\n",
       "    .dataframe tbody tr th {\n",
       "        vertical-align: top;\n",
       "    }\n",
       "\n",
       "    .dataframe thead th {\n",
       "        text-align: right;\n",
       "    }\n",
       "</style>\n",
       "<table border=\"1\" class=\"dataframe\">\n",
       "  <thead>\n",
       "    <tr style=\"text-align: right;\">\n",
       "      <th></th>\n",
       "      <th>id</th>\n",
       "      <th>id_station</th>\n",
       "      <th>lat</th>\n",
       "      <th>lon</th>\n",
       "      <th>slots</th>\n",
       "      <th>bikes</th>\n",
       "      <th>hora</th>\n",
       "      <th>hmin</th>\n",
       "      <th>bikesdifference</th>\n",
       "      <th>total_space</th>\n",
       "    </tr>\n",
       "  </thead>\n",
       "  <tbody>\n",
       "    <tr>\n",
       "      <th>0</th>\n",
       "      <td>371599</td>\n",
       "      <td>277</td>\n",
       "      <td>41.4083</td>\n",
       "      <td>2.16905</td>\n",
       "      <td>16</td>\n",
       "      <td>11</td>\n",
       "      <td>2018-10-23 12:09:03.052742</td>\n",
       "      <td>12:10</td>\n",
       "      <td>1</td>\n",
       "      <td>27</td>\n",
       "    </tr>\n",
       "    <tr>\n",
       "      <th>1</th>\n",
       "      <td>371627</td>\n",
       "      <td>305</td>\n",
       "      <td>41.3875</td>\n",
       "      <td>2.12364</td>\n",
       "      <td>18</td>\n",
       "      <td>9</td>\n",
       "      <td>2018-10-23 12:09:03.052742</td>\n",
       "      <td>12:10</td>\n",
       "      <td>-1</td>\n",
       "      <td>27</td>\n",
       "    </tr>\n",
       "    <tr>\n",
       "      <th>2</th>\n",
       "      <td>371638</td>\n",
       "      <td>316</td>\n",
       "      <td>41.4222</td>\n",
       "      <td>2.19832</td>\n",
       "      <td>25</td>\n",
       "      <td>2</td>\n",
       "      <td>2018-10-23 12:09:03.052742</td>\n",
       "      <td>12:10</td>\n",
       "      <td>-1</td>\n",
       "      <td>27</td>\n",
       "    </tr>\n",
       "    <tr>\n",
       "      <th>3</th>\n",
       "      <td>371661</td>\n",
       "      <td>339</td>\n",
       "      <td>41.4017</td>\n",
       "      <td>2.20528</td>\n",
       "      <td>18</td>\n",
       "      <td>7</td>\n",
       "      <td>2018-10-23 12:09:03.052742</td>\n",
       "      <td>12:10</td>\n",
       "      <td>1</td>\n",
       "      <td>25</td>\n",
       "    </tr>\n",
       "    <tr>\n",
       "      <th>4</th>\n",
       "      <td>371669</td>\n",
       "      <td>347</td>\n",
       "      <td>41.3595</td>\n",
       "      <td>2.14182</td>\n",
       "      <td>3</td>\n",
       "      <td>29</td>\n",
       "      <td>2018-10-23 12:09:03.052742</td>\n",
       "      <td>12:10</td>\n",
       "      <td>1</td>\n",
       "      <td>32</td>\n",
       "    </tr>\n",
       "  </tbody>\n",
       "</table>\n",
       "</div>"
      ],
      "text/plain": [
       "       id  id_station      lat      lon  slots  bikes  \\\n",
       "0  371599         277  41.4083  2.16905     16     11   \n",
       "1  371627         305  41.3875  2.12364     18      9   \n",
       "2  371638         316  41.4222  2.19832     25      2   \n",
       "3  371661         339  41.4017  2.20528     18      7   \n",
       "4  371669         347  41.3595  2.14182      3     29   \n",
       "\n",
       "                        hora        hmin  bikesdifference  total_space  \n",
       "0 2018-10-23 12:09:03.052742  12:10                     1           27  \n",
       "1 2018-10-23 12:09:03.052742  12:10                    -1           27  \n",
       "2 2018-10-23 12:09:03.052742  12:10                    -1           27  \n",
       "3 2018-10-23 12:09:03.052742  12:10                     1           25  \n",
       "4 2018-10-23 12:09:03.052742  12:10                     1           32  "
      ]
     },
     "execution_count": 41,
     "metadata": {},
     "output_type": "execute_result"
    }
   ],
   "source": [
    "df = df.assign(total_space = df.slots+df.bikes)\n",
    "df.head()"
   ]
  },
  {
   "cell_type": "code",
   "execution_count": 47,
   "metadata": {},
   "outputs": [
    {
     "name": "stdout",
     "output_type": "stream",
     "text": [
      "id_station  total_space\n",
      "1           29             12\n",
      "2           22              4\n",
      "            21              2\n",
      "3           24             10\n",
      "4           20             12\n",
      "5           39              6\n",
      "6           37              8\n",
      "7           27              6\n",
      "8           27             15\n",
      "9           26              9\n",
      "            27              7\n",
      "11          21              8\n",
      "            20              4\n",
      "12          30             10\n",
      "13          31              4\n",
      "15          20             14\n",
      "            19              1\n",
      "16          21              7\n",
      "17          21              5\n",
      "18          27             14\n",
      "19          28              6\n",
      "            29              2\n",
      "20          21              9\n",
      "21          21              7\n",
      "22          21              8\n",
      "23          27             13\n",
      "24          30             15\n",
      "25          20              4\n",
      "26          18              5\n",
      "            17              4\n",
      "                           ..\n",
      "415         26              4\n",
      "416         26              6\n",
      "418         26             17\n",
      "419         31              9\n",
      "420         26              7\n",
      "421         31              9\n",
      "423         27              1\n",
      "424         24              5\n",
      "425         27              4\n",
      "426         31             12\n",
      "            32              2\n",
      "427         21              9\n",
      "428         27             12\n",
      "452         10              1\n",
      "455         10              1\n",
      "458         12              1\n",
      "459         11              1\n",
      "460         12              1\n",
      "466         12              1\n",
      "467         12              1\n",
      "469         12              1\n",
      "471         12              1\n",
      "472         10              3\n",
      "473         12              1\n",
      "475         12              1\n",
      "478         12              2\n",
      "482         11              1\n",
      "483         12              1\n",
      "486         12              1\n",
      "492         24              2\n",
      "Name: total_space, Length: 481, dtype: int64\n"
     ]
    },
    {
     "data": {
      "text/plain": [
       "625     27\n",
       "678     27\n",
       "734     27\n",
       "835     27\n",
       "1147    27\n",
       "1516    26\n",
       "1617    26\n",
       "1720    26\n",
       "1838    26\n",
       "1898    26\n",
       "2010    26\n",
       "2076    26\n",
       "2388    26\n",
       "2448    26\n",
       "2734    27\n",
       "2955    27\n",
       "Name: total_space, dtype: int64"
      ]
     },
     "execution_count": 47,
     "metadata": {},
     "output_type": "execute_result"
    }
   ],
   "source": [
    "print(df.groupby('id_station')['total_space'].value_counts())\n",
    "\n",
    "df['total_space'][df['id_station']==9]"
   ]
  },
  {
   "cell_type": "code",
   "execution_count": 51,
   "metadata": {},
   "outputs": [
    {
     "data": {
      "text/html": [
       "<div>\n",
       "<style scoped>\n",
       "    .dataframe tbody tr th:only-of-type {\n",
       "        vertical-align: middle;\n",
       "    }\n",
       "\n",
       "    .dataframe tbody tr th {\n",
       "        vertical-align: top;\n",
       "    }\n",
       "\n",
       "    .dataframe thead th {\n",
       "        text-align: right;\n",
       "    }\n",
       "</style>\n",
       "<table border=\"1\" class=\"dataframe\">\n",
       "  <thead>\n",
       "    <tr style=\"text-align: right;\">\n",
       "      <th></th>\n",
       "      <th>id</th>\n",
       "      <th>id_station</th>\n",
       "      <th>lat</th>\n",
       "      <th>lon</th>\n",
       "      <th>slots</th>\n",
       "      <th>bikes</th>\n",
       "      <th>hora</th>\n",
       "      <th>hmin</th>\n",
       "      <th>bikesdifference</th>\n",
       "      <th>total_space</th>\n",
       "    </tr>\n",
       "  </thead>\n",
       "  <tbody>\n",
       "    <tr>\n",
       "      <th>1147</th>\n",
       "      <td>381984</td>\n",
       "      <td>9</td>\n",
       "      <td>41.3845</td>\n",
       "      <td>2.18492</td>\n",
       "      <td>18</td>\n",
       "      <td>9</td>\n",
       "      <td>2018-10-23 12:32:02.923265</td>\n",
       "      <td>12:33</td>\n",
       "      <td>-1</td>\n",
       "      <td>27</td>\n",
       "    </tr>\n",
       "    <tr>\n",
       "      <th>1516</th>\n",
       "      <td>385225</td>\n",
       "      <td>9</td>\n",
       "      <td>41.3845</td>\n",
       "      <td>2.18492</td>\n",
       "      <td>18</td>\n",
       "      <td>8</td>\n",
       "      <td>2018-10-23 12:39:02.931840</td>\n",
       "      <td>12:40</td>\n",
       "      <td>-1</td>\n",
       "      <td>26</td>\n",
       "    </tr>\n",
       "  </tbody>\n",
       "</table>\n",
       "</div>"
      ],
      "text/plain": [
       "          id  id_station      lat      lon  slots  bikes  \\\n",
       "1147  381984           9  41.3845  2.18492     18      9   \n",
       "1516  385225           9  41.3845  2.18492     18      8   \n",
       "\n",
       "                           hora        hmin  bikesdifference  total_space  \n",
       "1147 2018-10-23 12:32:02.923265  12:33                    -1           27  \n",
       "1516 2018-10-23 12:39:02.931840  12:40                    -1           26  "
      ]
     },
     "execution_count": 51,
     "metadata": {},
     "output_type": "execute_result"
    }
   ],
   "source": [
    "df.iloc[[1147,1516]]"
   ]
  }
 ],
 "metadata": {
  "kernelspec": {
   "display_name": "Python 3",
   "language": "python",
   "name": "python3"
  },
  "language_info": {
   "codemirror_mode": {
    "name": "ipython",
    "version": 3
   },
   "file_extension": ".py",
   "mimetype": "text/x-python",
   "name": "python",
   "nbconvert_exporter": "python",
   "pygments_lexer": "ipython3",
   "version": "3.6.4"
  }
 },
 "nbformat": 4,
 "nbformat_minor": 2
}
